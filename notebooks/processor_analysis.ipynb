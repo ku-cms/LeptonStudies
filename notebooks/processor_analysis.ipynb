{
 "cells": [
  {
   "cell_type": "code",
   "execution_count": 1,
   "metadata": {},
   "outputs": [
    {
     "name": "stderr",
     "output_type": "stream",
     "text": [
      "/cvmfs/sft-nightlies.cern.ch/lcg/views/devswan/Thu/x86_64-el9-gcc13-opt/lib/python3.11/site-packages/coffea/nanoevents/schemas/fcc.py:5: FutureWarning: In version 2025.1.0 (target date: 2024-12-31 11:59:59-06:00), this will be an error.\n",
      "To raise these warnings as errors (and get stack traces to find out where they're called), run\n",
      "    import warnings\n",
      "    warnings.filterwarnings(\"error\", module=\"coffea.*\")\n",
      "after the first `import coffea` or use `@pytest.mark.filterwarnings(\"error:::coffea.*\")` in pytest.\n",
      "Issue: coffea.nanoevents.methods.vector will be removed and replaced with scikit-hep vector. Nanoevents schemas internal to coffea will be migrated. Otherwise please consider using that package!.\n",
      "  from coffea.nanoevents.methods import vector\n"
     ]
    },
    {
     "name": "stdout",
     "output_type": "stream",
     "text": [
      "coffea version:\n",
      "2024.10.0\n"
     ]
    }
   ],
   "source": [
    "import os\n",
    "import json\n",
    "import time\n",
    "\n",
    "import hist\n",
    "import dask\n",
    "import awkward as ak\n",
    "import hist.dask as hda\n",
    "import dask_awkward as dak\n",
    "\n",
    "from coffea import processor\n",
    "from coffea.nanoevents.methods import candidate\n",
    "from coffea.dataset_tools import (\n",
    "    apply_to_fileset,\n",
    "    max_chunks,\n",
    "    preprocess,\n",
    ")\n",
    "from distributed import Client\n",
    "\n",
    "# print coffea version\n",
    "import coffea\n",
    "print(f\"coffea version:\")\n",
    "print(coffea.__version__)\n",
    "\n",
    "client = Client()\n",
    "\n",
    "# creates directory if it does not exist\n",
    "def makeDir(dir_name):\n",
    "    if not os.path.exists(dir_name):\n",
    "        os.makedirs(dir_name)\n",
    "\n",
    "class MyProcessor(processor.ProcessorABC):\n",
    "    def __init__(self):\n",
    "        pass\n",
    "\n",
    "    def process(self, events):\n",
    "        dataset = events.metadata['dataset']\n",
    "        muons = ak.zip(\n",
    "            {\n",
    "                \"pt\": events.Muon_pt,\n",
    "                \"eta\": events.Muon_eta,\n",
    "                \"phi\": events.Muon_phi,\n",
    "                \"mass\": events.Muon_mass,\n",
    "                \"charge\": events.Muon_charge,\n",
    "            },\n",
    "            with_name=\"PtEtaPhiMCandidate\",\n",
    "            behavior=candidate.behavior,\n",
    "        )\n",
    "\n",
    "        h_mass = (\n",
    "            hda.Hist.new\n",
    "            .StrCat([\"opposite\", \"same\"], name=\"sign\")\n",
    "            .Log(1000, 0.2, 200., name=\"mass\", label=\"$m_{\\mu\\mu}$ [GeV]\")\n",
    "            .Int64()\n",
    "        )\n",
    "\n",
    "        cut = (ak.num(muons) == 2) & (ak.sum(muons.charge, axis=1) == 0)\n",
    "        # add first and second muon in every event together\n",
    "        dimuon = muons[cut][:, 0] + muons[cut][:, 1]\n",
    "        h_mass.fill(sign=\"opposite\", mass=dimuon.mass)\n",
    "\n",
    "        cut = (ak.num(muons) == 2) & (ak.sum(muons.charge, axis=1) != 0)\n",
    "        dimuon = muons[cut][:, 0] + muons[cut][:, 1]\n",
    "        h_mass.fill(sign=\"same\", mass=dimuon.mass)\n",
    "\n",
    "        return {\n",
    "            dataset: {\n",
    "                \"entries\": ak.num(events, axis=0),\n",
    "                \"mass\": h_mass,\n",
    "            }\n",
    "        }\n",
    "\n",
    "    def postprocess(self, accumulator):\n",
    "        pass"
   ]
  },
  {
   "cell_type": "markdown",
   "metadata": {},
   "source": [
    "If we were to just use bare uproot to execute this processor, we could do that with the following example, which:\n",
    "\n",
    " * Opens a CMS open data file\n",
    " * Creates a NanoEvents object using `BaseSchema` (roughly equivalent to the output of `uproot.lazy`)\n",
    " * Creates a `MyProcessor` instance\n",
    " * Runs the `process()` function, which returns our accumulators\n"
   ]
  },
  {
   "cell_type": "code",
   "execution_count": 2,
   "metadata": {},
   "outputs": [
    {
     "name": "stderr",
     "output_type": "stream",
     "text": [
      "/cvmfs/sft-nightlies.cern.ch/lcg/views/devswan/Thu/x86_64-el9-gcc13-opt/lib/python3.11/site-packages/coffea/nanoevents/factory.py:317: RuntimeWarning: You have set steps_per_file to 1, this should only be used for a\n",
      "                small number of inputs (e.g. for early-stage/exploratory analysis) since it does not\n",
      "                inform dask of each chunk lengths at creation time, which can cause unexpected\n",
      "                slowdowns at scale. If you would like to process larger datasets please specify steps\n",
      "                using the appropriate uproot \"files\" specification:\n",
      "                    https://github.com/scikit-hep/uproot5/blob/v5.1.2/src/uproot/_dask.py#L109-L132.\n",
      "                \n",
      "  warnings.warn(\n",
      "/cvmfs/sft-nightlies.cern.ch/lcg/views/devswan/Thu/x86_64-el9-gcc13-opt/lib/python3.11/site-packages/coffea/nanoevents/schemas/fcc.py:5: FutureWarning: In version 2025.1.0 (target date: 2024-12-31 11:59:59-06:00), this will be an error.\n",
      "To raise these warnings as errors (and get stack traces to find out where they're called), run\n",
      "    import warnings\n",
      "    warnings.filterwarnings(\"error\", module=\"coffea.*\")\n",
      "after the first `import coffea` or use `@pytest.mark.filterwarnings(\"error:::coffea.*\")` in pytest.\n",
      "Issue: coffea.nanoevents.methods.vector will be removed and replaced with scikit-hep vector. Nanoevents schemas internal to coffea will be migrated. Otherwise please consider using that package!.\n",
      "  from coffea.nanoevents.methods import vector\n"
     ]
    },
    {
     "name": "stdout",
     "output_type": "stream",
     "text": [
      "computed_1:\n",
      "{'Muon_Data': {'entries': 1032791, 'mass': Hist(\n",
      "  StrCategory(['opposite', 'same'], name='sign'),\n",
      "  Regular(1000, 0.2, 200, transform=log, name='mass', label='$m_{\\\\mu\\\\mu}$ [GeV]'),\n",
      "  storage=Int64()) # Sum: 316069.0 (319246.0 with flow)}}\n",
      "run time: 12.71 seconds\n"
     ]
    }
   ],
   "source": [
    "from coffea.nanoevents import NanoEventsFactory, BaseSchema\n",
    "\n",
    "start_time = time.time()\n",
    "\n",
    "#filename = \"file://Run2012B_DoubleMuParked.root\"\n",
    "filename = \"/eos/user/c/caleb/CMS/datasets/2023_Data/Muon0_Run2023C-22Sep2023_v1-v1_NANOAOD/01e84393-6b2e-4d57-87a4-f71475c051a2.root\"\n",
    "events = NanoEventsFactory.from_root(\n",
    "    {filename: \"Events\"},\n",
    "    steps_per_file=1,\n",
    "    metadata={\"dataset\": \"Muon_Data\"},\n",
    "    schemaclass=BaseSchema,\n",
    ").events()\n",
    "p = MyProcessor()\n",
    "output_1 = p.process(events)\n",
    "(computed_1,) = dask.compute(output_1)\n",
    "\n",
    "end_time = time.time()\n",
    "\n",
    "run_time = end_time - start_time\n",
    "\n",
    "print(\"computed_1:\")\n",
    "print(computed_1)\n",
    "print(\"run time: {0:.2f} seconds\".format(run_time))"
   ]
  },
  {
   "cell_type": "code",
   "execution_count": 3,
   "metadata": {},
   "outputs": [
    {
     "data": {
      "image/png": "[encoded data removed]",
      "text/plain": [
       "<Figure size 432x288 with 1 Axes>"
      ]
     },
     "metadata": {
      "needs_background": "light"
     },
     "output_type": "display_data"
    }
   ],
   "source": [
    "import matplotlib.pyplot as plt\n",
    "\n",
    "# create directory for plots\n",
    "plot_dir  = \"plots\"\n",
    "makeDir(plot_dir)\n",
    "\n",
    "# create plot\n",
    "fig, ax = plt.subplots()\n",
    "computed_1[\"Muon_Data\"][\"mass\"].plot1d(ax=ax)\n",
    "ax.set_title(\"Dimuon mass\")\n",
    "ax.set_ylabel(\"Number of events\")\n",
    "# ax.set_yscale(\"log\")\n",
    "ax.set_xscale(\"log\")\n",
    "ax.legend(title=\"Dimuon charge\")\n",
    "\n",
    "# save plot to png and pdf files\n",
    "plot_name = \"dimuon_mass_one_file\"\n",
    "output_png = \"plots/{0}.png\".format(plot_name)\n",
    "output_pdf = \"plots/{0}.pdf\".format(plot_name)\n",
    "plt.savefig(output_png, bbox_inches='tight')\n",
    "plt.savefig(output_pdf, bbox_inches='tight')"
   ]
  },
  {
   "cell_type": "markdown",
   "metadata": {},
   "source": [
    "One could expand on this code to run over several chunks of the file, setting `entry_start` and `entry_stop` as appropriate. Then, several datasets could be processed by iterating over several files. However, the `dask.compute` and `coffea.dataset_tools` can help with this! We can `preprocess` multiple files and then use our custom `MyProcessor` class to generate the relevant dask task graph. Finally, the result can be obtained by calling `dask.compute`. Since these files are very large, we limit to just reading the first few chunks of events from each dataset with `maxchunks`."
   ]
  },
  {
   "cell_type": "code",
   "execution_count": 4,
   "metadata": {},
   "outputs": [
    {
     "name": "stderr",
     "output_type": "stream",
     "text": [
      "/cvmfs/sft-nightlies.cern.ch/lcg/views/devswan/Thu/x86_64-el9-gcc13-opt/lib/python3.11/site-packages/coffea/nanoevents/schemas/fcc.py:5: FutureWarning: In version 2025.1.0 (target date: 2024-12-31 11:59:59-06:00), this will be an error.\n",
      "To raise these warnings as errors (and get stack traces to find out where they're called), run\n",
      "    import warnings\n",
      "    warnings.filterwarnings(\"error\", module=\"coffea.*\")\n",
      "after the first `import coffea` or use `@pytest.mark.filterwarnings(\"error:::coffea.*\")` in pytest.\n",
      "Issue: coffea.nanoevents.methods.vector will be removed and replaced with scikit-hep vector. Nanoevents schemas internal to coffea will be migrated. Otherwise please consider using that package!.\n",
      "  from coffea.nanoevents.methods import vector\n"
     ]
    }
   ],
   "source": [
    "# fileset = {\n",
    "#     \"sample_1\": {\n",
    "#         \"files\": {\n",
    "#             \"file_1.root\": \"Events\",\n",
    "#             \"file_2.root\": \"Events\"\n",
    "#         }\n",
    "#     },\n",
    "#     \"sample_2\": {\n",
    "#         \"files\": {\n",
    "#             \"file_1\": \"Events\",\n",
    "#             \"file_2\": \"Events\"\n",
    "#         }\n",
    "#     }\n",
    "# }\n",
    "\n",
    "# load fileset from json file\n",
    "fileset = None\n",
    "with open(\"../json/2023_Data/Muon0_Run2023C-22Sep2023_v1-v1_NANOAOD.json\", \"r\") as my_file:\n",
    "    fileset = json.load(my_file)\n",
    "\n",
    "dataset_runnable, dataset_updated = preprocess(\n",
    "    fileset,\n",
    "    align_clusters=False,\n",
    "    step_size=1_000_000,\n",
    "    files_per_batch=1,\n",
    "    skip_bad_files=True,\n",
    "    save_form=False,\n",
    ")"
   ]
  },
  {
   "cell_type": "code",
   "execution_count": 5,
   "metadata": {},
   "outputs": [
    {
     "name": "stdout",
     "output_type": "stream",
     "text": [
      "output_2:\n",
      "{'Muon_Data': {'Muon_Data': {'entries': 54715896, 'mass': Hist(\n",
      "  StrCategory(['opposite', 'same'], name='sign'),\n",
      "  Regular(1000, 0.2, 200, transform=log, name='mass', label='$m_{\\\\mu\\\\mu}$ [GeV]'),\n",
      "  storage=Int64()) # Sum: 16165760.0 (16334984.0 with flow)}}}\n",
      "run time: 285.82 seconds\n"
     ]
    }
   ],
   "source": [
    "start_time = time.time()\n",
    "\n",
    "to_compute = apply_to_fileset(\n",
    "                MyProcessor(),\n",
    "                max_chunks(dataset_runnable, 300),\n",
    "                schemaclass=BaseSchema,\n",
    "            )\n",
    "(output_2,) = dask.compute(to_compute)\n",
    "\n",
    "end_time = time.time()\n",
    "\n",
    "run_time = end_time - start_time\n",
    "\n",
    "print(\"output_2:\")\n",
    "print(output_2)\n",
    "print(\"run time: {0:.2f} seconds\".format(run_time))"
   ]
  },
  {
   "cell_type": "markdown",
   "metadata": {},
   "source": [
    "The run may depend on how many cores are available on the machine you are running this notebook and your connection to `eospublic.cern.ch`."
   ]
  },
  {
   "cell_type": "code",
   "execution_count": 6,
   "metadata": {},
   "outputs": [
    {
     "data": {
      "image/png": "[encoded data removed]",
      "text/plain": [
       "<Figure size 720x432 with 1 Axes>"
      ]
     },
     "metadata": {
      "needs_background": "light"
     },
     "output_type": "display_data"
    }
   ],
   "source": [
    "# create plot\n",
    "fig, ax = plt.subplots(figsize=(10, 6))\n",
    "output_2[\"Muon_Data\"][\"Muon_Data\"][\"mass\"].plot1d(ax=ax)\n",
    "ax.set_title(\"Dimuon mass\")\n",
    "ax.set_ylabel(\"Number of events\")\n",
    "# ax.set_yscale(\"log\")\n",
    "ax.set_xscale(\"log\")\n",
    "ax.legend(title=\"Dimuon charge\")\n",
    "\n",
    "# save plot to png and pdf files\n",
    "plot_name = \"dimuon_mass_all_files\"\n",
    "output_png = \"plots/{0}.png\".format(plot_name)\n",
    "output_pdf = \"plots/{0}.pdf\".format(plot_name)\n",
    "plt.savefig(output_png, bbox_inches='tight')\n",
    "plt.savefig(output_pdf, bbox_inches='tight')"
   ]
  }
 ],
 "metadata": {
  "kernelspec": {
   "display_name": "Python 3",
   "language": "python",
   "name": "python3"
  },
  "language_info": {
   "codemirror_mode": {
    "name": "ipython",
    "version": 3
   },
   "file_extension": ".py",
   "mimetype": "text/x-python",
   "name": "python",
   "nbconvert_exporter": "python",
   "pygments_lexer": "ipython3",
   "version": "3.11.9"
  }
 },
 "nbformat": 4,
 "nbformat_minor": 4
}
