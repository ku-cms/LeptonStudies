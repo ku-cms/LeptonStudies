{
 "cells": [
  {
   "cell_type": "markdown",
   "id": "d071425e-766f-458f-b7c2-b998ddfb83b3",
   "metadata": {},
   "source": [
    "# Electron Tag and Probe using the J/psi meson\n",
    "\n",
    "Repository: https://github.com/ku-cms/LeptonStudies\n",
    "\n",
    "NANO AOD documentation page: https://cms-nanoaod-integration.web.cern.ch/autoDoc/"
   ]
  },
  {
   "cell_type": "code",
   "execution_count": null,
   "id": "dbb6c71b-0f1d-4120-9871-f6b852875fa6",
   "metadata": {},
   "outputs": [],
   "source": []
  }
 ],
 "metadata": {
  "kernelspec": {
   "display_name": "Python 3",
   "language": "python",
   "name": "python3"
  },
  "language_info": {
   "codemirror_mode": {
    "name": "ipython",
    "version": 3
   },
   "file_extension": ".py",
   "mimetype": "text/x-python",
   "name": "python",
   "nbconvert_exporter": "python",
   "pygments_lexer": "ipython3",
   "version": "3.9.12"
  }
 },
 "nbformat": 4,
 "nbformat_minor": 5
}
