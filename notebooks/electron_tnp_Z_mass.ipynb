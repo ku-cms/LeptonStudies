{
 "cells": [
  {
   "cell_type": "markdown",
   "id": "774100ea-f9c7-4ea9-9bbe-352b3aabcd52",
   "metadata": {},
   "source": [
    "# Electron Tag and Probe using the Z boson\n",
    "\n",
    "Repository: https://github.com/ku-cms/LeptonStudies"
   ]
  },
  {
   "cell_type": "code",
   "execution_count": null,
   "id": "54b7757d-0f32-485e-9e0b-118236981dcf",
   "metadata": {},
   "outputs": [],
   "source": []
  }
 ],
 "metadata": {
  "kernelspec": {
   "display_name": "Python 3",
   "language": "python",
   "name": "python3"
  },
  "language_info": {
   "codemirror_mode": {
    "name": "ipython",
    "version": 3
   },
   "file_extension": ".py",
   "mimetype": "text/x-python",
   "name": "python",
   "nbconvert_exporter": "python",
   "pygments_lexer": "ipython3",
   "version": "3.9.12"
  }
 },
 "nbformat": 4,
 "nbformat_minor": 5
}
