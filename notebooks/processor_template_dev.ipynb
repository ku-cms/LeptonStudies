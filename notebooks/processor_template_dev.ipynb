{
 "cells": [
  {
   "cell_type": "markdown",
   "metadata": {},
   "source": [
    "# Coffea Processors\n",
    "stripped down version from: https://coffeateam.github.io/coffea/notebooks/processor.html\n",
    "\n",
    "and also Nick Manganelli's example"
   ]
  },
  {
   "cell_type": "code",
   "execution_count": 4,
   "metadata": {},
   "outputs": [
    {
     "name": "stdout",
     "output_type": "stream",
     "text": [
      "coffea version:\n",
      "2024.10.0\n"
     ]
    }
   ],
   "source": [
    "import awkward as ak\n",
    "from coffea import processor\n",
    "from coffea.nanoevents.methods import candidate\n",
    "from coffea.nanoevents import NanoEventsFactory, NanoAODSchema\n",
    "from coffea.dataset_tools import apply_to_fileset, max_chunks, max_files, preprocess\n",
    "from coffea.analysis_tools import PackedSelection\n",
    "\n",
    "# print coffea version\n",
    "import coffea\n",
    "print(f\"coffea version:\")\n",
    "print(coffea.__version__)\n",
    "\n",
    "import hist\n",
    "import dask\n",
    "from hist.dask import Hist\n",
    "\n",
    "import matplotlib.pyplot as plt\n",
    "import numpy as np\n",
    "import mplhep\n",
    "mplhep.style.use(mplhep.style.CMS)\n",
    "\n",
    "class MyProcessor(processor.ProcessorABC):\n",
    "    def __init__(self):\n",
    "        self.schema = NanoAODSchema\n",
    "\n",
    "    def process(self, events):\n",
    "        dataset = events.metadata['dataset']\n",
    "\n",
    "        if dataset == \"TChiWZ\":\n",
    "            events = events[events.GenModel.TChiWZ_ZToLL_300_295]\n",
    "\n",
    "        if dataset == \"TSlepSlep\":\n",
    "            events = events[events.GenModel.TSlepSlep_300_280]\n",
    "        \n",
    "        electrons = events.Electron\n",
    "        lpte = events.LowPtElectron\n",
    "        total_entries = ak.num(events, axis=0)\n",
    "        \n",
    "        pt_dist = (\n",
    "            Hist.new\n",
    "            .Regular(60, 0, 30, name=\"pt\", label=\"Electron $p_T$ [GeV]\") #histogram, 60 bins between 0 and 30\n",
    "            .Double()\n",
    "        )\n",
    "        \n",
    "        ID_vs_pt = (\n",
    "            Hist.new\n",
    "            .Regular(50, 1, 5, name=\"pt\", label=\"Electron $\\eta$\")\n",
    "            .Regular(100, 0, 6, name=\"ID\", label=\"Electron $p_T$ [GeV]\")  \n",
    "            .Double()\n",
    "        )\n",
    "        \n",
    "        cut = (\n",
    "            #(lpt_ele.pt <= 5) & \n",
    "            (np.abs(lpte.eta) < 2.4) & \n",
    "            #(sip3D(dxy, dxyErr, dz, dzErr) < 8) & \n",
    "            (np.abs(lpte.dxy) < 0.05) & \n",
    "            (np.abs(lpte.dz) < 0.1) & \n",
    "            (lpte.miniPFRelIso_all < (20 + 300/lpte.pt))\n",
    "        )\n",
    "        \n",
    "        sel_lpte = lpte[cut]\n",
    "        \n",
    "        sel_lpte_genflav1 = sel_lpte[(sel_lpte.genPartFlav == 1) & (sel_lpte.pt <= 5)]\n",
    "\n",
    "        count_lpte = ak.sum(ak.num(sel_lpte))\n",
    "        \n",
    "        pt_dist.fill(pt=ak.flatten(sel_lpte.pt))\n",
    "        ID_vs_pt.fill(pt=ak.flatten(sel_lpte_genflav1.pt), ID=ak.flatten(sel_lpte_genflav1.ID))\n",
    "        \n",
    "        \n",
    "        output = {\n",
    "            \"entries\": total_entries,\n",
    "            \"count_lpte\": count_lpte,\n",
    "            \"pt\": pt_dist,\n",
    "            \"ID_vs_pt\": ID_vs_pt,\n",
    "        }\n",
    "            \n",
    "        return output\n",
    "    \n",
    "    def postprocess(self, accumulator):\n",
    "        pass\n"
   ]
  },
  {
   "cell_type": "code",
   "execution_count": 2,
   "metadata": {},
   "outputs": [],
   "source": [
    "fileset = {\n",
    "    'ttbar': {\n",
    "        \"files\": {\n",
    "            '/eos/user/d/dgrove/datasets/ttbar_nAODv9/040206C8-D83C-BA42-BE3F-C3CB0920BEED.root': \"Events\",\n",
    "            '/eos/user/d/dgrove/datasets/ttbar_nAODv9/0C483F40-C7FA-0445-B1A0-0C90E2450527.root': \"Events\",\n",
    "            '/eos/user/d/dgrove/datasets/ttbar_nAODv9/12D57CAF-00C5-484F-B744-5BA50CDC7540.root': \"Events\",\n",
    "            \n",
    "        },\n",
    "        \"metadata\": {\n",
    "            \"is_mc\": True,\n",
    "            \"is_signal\": False,\n",
    "        },\n",
    "    },\n",
    "    'WZ': {\n",
    "        \"files\": {\n",
    "            '/eos/user/d/dgrove/datasets/WZ_MC/34A260AF-5CF4-5648-BF9F-B84B7A5F2859.root': \"Events\",\n",
    "            '/eos/user/d/dgrove/datasets/WZ_MC/E4F05A6C-CBDD-254C-ABBD-38B7A5E81EB3.root': \"Events\",\n",
    "        },\n",
    "        \"metadata\": {\n",
    "            \"is_mc\": True,\n",
    "            \"is_signal\": False,\n",
    "        },\n",
    "    },\n",
    "    'TSlepSlep': {\n",
    "        \"files\": {\n",
    "            '/eos/user/d/dgrove/datasets/TSlepSlep/5244169E-4F18-F649-BE1C-C327F93D668C.root': \"Events\",\n",
    "            '/eos/user/d/dgrove/datasets/TSlepSlep/6EAFD443-B388-6841-892C-821A020505AA.root': \"Events\",\n",
    "            '/eos/user/d/dgrove/datasets/TSlepSlep/78B9FAED-5A2C-7540-89F0-507185DF146D.root': \"Events\",\n",
    "            '/eos/user/d/dgrove/datasets/TSlepSlep/CAD43160-4DB5-5445-A0B3-C88CCAC73F61': \"Events\",\n",
    "        },\n",
    "        \"metadata\": {\n",
    "            \"is_mc\": True,\n",
    "            \"is_signal\": True,\n",
    "        },\n",
    "    },\n",
    "    'TChiWZ': {\n",
    "        \"files\": {\n",
    "            '/eos/user/d/dgrove/datasets/TChiWZ/0B041116-DADF-CF45-8C16-DF2920CC756D.root': \"Events\",\n",
    "            '/eos/user/d/dgrove/datasets/TChiWZ/1D4A080A-4230-7D44-BC89-7569261BDEB7.root': \"Events\",\n",
    "            '/eos/user/d/dgrove/datasets/TChiWZ/24CC610C-2F7E-C64D-AF51-48CCDF98DE28.root': \"Events\",\n",
    "            '/eos/user/d/dgrove/datasets/TChiWZ/42F85F0D-CD12-414D-A062-EA16FBECBE74.root': \"Events\",\n",
    "        },\n",
    "        \"metadata\": {\n",
    "            \"is_mc\": True,\n",
    "            \"is_signal\": True,\n",
    "        },\n",
    "    }\n",
    "}\n",
    "\n",
    "fileset"
   ]
  },
  {
   "cell_type": "code",
   "execution_count": 3,
   "metadata": {
    "tags": []
   },
   "outputs": [
    {
     "ename": "Exception",
     "evalue": "There was no populated list of files returned from querying your input dataset.\nPlease check your xrootd endpoints, and avoid redirectors.\nInput dataset: ttbar\nAs parsed for querying: [{'file': '/eos/user/d/dgrove/datasets/ttbar_nAODv9/040206C8-D83C-BA42-BE3F-C3CB0920BEED.root', 'object_path': 'Events', 'steps': None, 'num_entries': None, 'uuid': None}, {'file': '/eos/user/d/dgrove/datasets/ttbar_nAODv9/0C483F40-C7FA-0445-B1A0-0C90E2450527.root', 'object_path': 'Events', 'steps': None, 'num_entries': None, 'uuid': None}, {'file': '/eos/user/d/dgrove/datasets/ttbar_nAODv9/12D57CAF-00C5-484F-B744-5BA50CDC7540.root', 'object_path': 'Events', 'steps': None, 'num_entries': None, 'uuid': None}]",
     "output_type": "error",
     "traceback": [
      "\u001b[0;31m---------------------------------------------------------------------------\u001b[0m",
      "\u001b[0;31mException\u001b[0m                                 Traceback (most recent call last)",
      "\u001b[0;32m/tmp/ipykernel_518/2809151406.py\u001b[0m in \u001b[0;36m<module>\u001b[0;34m\u001b[0m\n\u001b[0;32m----> 1\u001b[0;31m preprocessed_available, preprocessed_total = preprocess(\n\u001b[0m\u001b[1;32m      2\u001b[0m         \u001b[0mfileset\u001b[0m\u001b[0;34m,\u001b[0m\u001b[0;34m\u001b[0m\u001b[0;34m\u001b[0m\u001b[0m\n\u001b[1;32m      3\u001b[0m         \u001b[0mstep_size\u001b[0m\u001b[0;34m=\u001b[0m\u001b[0;36m100_000\u001b[0m\u001b[0;34m,\u001b[0m\u001b[0;34m\u001b[0m\u001b[0;34m\u001b[0m\u001b[0m\n\u001b[1;32m      4\u001b[0m         \u001b[0malign_clusters\u001b[0m\u001b[0;34m=\u001b[0m\u001b[0;32mNone\u001b[0m\u001b[0;34m,\u001b[0m\u001b[0;34m\u001b[0m\u001b[0;34m\u001b[0m\u001b[0m\n\u001b[1;32m      5\u001b[0m         \u001b[0mskip_bad_files\u001b[0m\u001b[0;34m=\u001b[0m\u001b[0;32mTrue\u001b[0m\u001b[0;34m,\u001b[0m\u001b[0;34m\u001b[0m\u001b[0;34m\u001b[0m\u001b[0m\n",
      "\u001b[0;32m/cvmfs/sft-nightlies.cern.ch/lcg/views/devswan/Mon/x86_64-el9-gcc13-opt/lib/python3.11/site-packages/coffea/dataset_tools/preprocess.py\u001b[0m in \u001b[0;36mpreprocess\u001b[0;34m(fileset, step_size, align_clusters, recalculate_steps, files_per_batch, skip_bad_files, file_exceptions, save_form, scheduler, uproot_options, step_size_safety_factor, allow_empty_datasets)\u001b[0m\n\u001b[1;32m    382\u001b[0m \u001b[0;34m\u001b[0m\u001b[0m\n\u001b[1;32m    383\u001b[0m             \u001b[0;32mif\u001b[0m \u001b[0;32mnot\u001b[0m \u001b[0mallow_empty_datasets\u001b[0m\u001b[0;34m:\u001b[0m\u001b[0;34m\u001b[0m\u001b[0;34m\u001b[0m\u001b[0m\n\u001b[0;32m--> 384\u001b[0;31m                 \u001b[0;32mraise\u001b[0m \u001b[0mException\u001b[0m\u001b[0;34m(\u001b[0m\u001b[0mds_empty_msg\u001b[0m\u001b[0;34m)\u001b[0m\u001b[0;34m\u001b[0m\u001b[0;34m\u001b[0m\u001b[0m\n\u001b[0m\u001b[1;32m    385\u001b[0m \u001b[0;34m\u001b[0m\u001b[0m\n\u001b[1;32m    386\u001b[0m             \u001b[0mwarnings\u001b[0m\u001b[0;34m.\u001b[0m\u001b[0mwarn\u001b[0m\u001b[0;34m(\u001b[0m\u001b[0mds_empty_msg\u001b[0m\u001b[0;34m)\u001b[0m\u001b[0;34m\u001b[0m\u001b[0;34m\u001b[0m\u001b[0m\n",
      "\u001b[0;31mException\u001b[0m: There was no populated list of files returned from querying your input dataset.\nPlease check your xrootd endpoints, and avoid redirectors.\nInput dataset: ttbar\nAs parsed for querying: [{'file': '/eos/user/d/dgrove/datasets/ttbar_nAODv9/040206C8-D83C-BA42-BE3F-C3CB0920BEED.root', 'object_path': 'Events', 'steps': None, 'num_entries': None, 'uuid': None}, {'file': '/eos/user/d/dgrove/datasets/ttbar_nAODv9/0C483F40-C7FA-0445-B1A0-0C90E2450527.root', 'object_path': 'Events', 'steps': None, 'num_entries': None, 'uuid': None}, {'file': '/eos/user/d/dgrove/datasets/ttbar_nAODv9/12D57CAF-00C5-484F-B744-5BA50CDC7540.root', 'object_path': 'Events', 'steps': None, 'num_entries': None, 'uuid': None}]"
     ]
    }
   ],
   "source": [
    "preprocessed_available, preprocessed_total = preprocess(\n",
    "        fileset,\n",
    "        step_size=100_000,\n",
    "        align_clusters=None,\n",
    "        skip_bad_files=True,\n",
    "        recalculate_steps=False,\n",
    "        files_per_batch=1,\n",
    "        file_exceptions=(OSError,),\n",
    "        save_form=True,\n",
    "        uproot_options={},\n",
    "        step_size_safety_factor=0.5,\n",
    "    )"
   ]
  },
  {
   "cell_type": "code",
   "execution_count": null,
   "metadata": {
    "tags": []
   },
   "outputs": [],
   "source": [
    "test_preprocessed_files = max_files(preprocessed_available, 1)\n",
    "test_preprocessed = max_chunks(test_preprocessed_files, 3)"
   ]
  },
  {
   "cell_type": "code",
   "execution_count": null,
   "metadata": {
    "tags": []
   },
   "outputs": [],
   "source": [
    "#how about a boolean switch for doing small_computed vs full_computed?\n",
    "\n",
    "### SWITCH HERE ####\n",
    "\n",
    "reduced_computation = True\n",
    "\n",
    "####################\n",
    "\n",
    "if reduced_computation:\n",
    "    small_tg, small_rep = apply_to_fileset(data_manipulation=MyProcessor(),\n",
    "                            fileset=test_preprocessed,\n",
    "                            schemaclass=NanoAODSchema,\n",
    "                            uproot_options={\"allow_read_errors_with_report\": (OSError, KeyError)},\n",
    "                           )\n",
    "    computed, rep = dask.compute(small_tg, small_rep)\n",
    "else:\n",
    "    full_tg, rep = apply_to_fileset(data_manipulation=MyProcessor(),\n",
    "                            fileset=preprocessed_available,\n",
    "                            schemaclass=NanoAODSchema,\n",
    "                            uproot_options={\"allow_read_errors_with_report\": (OSError, KeyError)},\n",
    "                           )\n",
    "    computed, rep = dask.compute(full_tg, rep)"
   ]
  },
  {
   "cell_type": "code",
   "execution_count": null,
   "metadata": {},
   "outputs": [],
   "source": [
    "#have to call this a second time to get proper scaling, a known bug\n",
    "mplhep.style.use(mplhep.style.CMS)"
   ]
  },
  {
   "cell_type": "code",
   "execution_count": null,
   "metadata": {},
   "outputs": [],
   "source": [
    "plt.figure()\n",
    "\n",
    "fig, ax = plt.subplots(figsize=(10, 6))\n",
    "\n",
    "lpte_ttbar = computed[\"ttbar\"][\"count_lpte\"]\n",
    "lpte_WZ = computed[\"WZ\"][\"count_lpte\"]\n",
    "\n",
    "norm_ttbar = computed[\"ttbar\"][\"pt\"]/lpte_ttbar\n",
    "norm_WZ = computed[\"WZ\"][\"pt\"]/lpte_WZ\n",
    "\n",
    "norm_ttbar.plot1d(ax=ax, label=\"ttbar\", linestyle=\"--\")\n",
    "norm_WZ.plot1d(ax=ax, label=\"WZ\", linestyle=\"--\")\n",
    "\n",
    "plt.xlabel(\"pt [GeV]\")\n",
    "plt.ylabel(\"Counts\")\n",
    "ax.axvline(x=5, color='black', linestyle=':', linewidth=2)\n",
    "plt.title(\"Electron pT\", pad=25)  # Adjust title position\n",
    "mplhep.cms.label(loc=0)  # Move CMS label to a different position\n",
    "plt.legend()\n",
    "plt.savefig(f\"pt_plot_TEST\", dpi=120)"
   ]
  },
  {
   "cell_type": "markdown",
   "metadata": {},
   "source": [
    "Its recommended to create all your code and plotting above using `small_computed` then, once its working and you're satisfied, uncomment lines below then copy paste is below those cells and rerun with `out` to use the full data set\n",
    "\n"
   ]
  }
 ],
 "metadata": {
  "kernelspec": {
   "display_name": "Python 3",
   "language": "python",
   "name": "python3"
  },
  "language_info": {
   "codemirror_mode": {
    "name": "ipython",
    "version": 3
   },
   "file_extension": ".py",
   "mimetype": "text/x-python",
   "name": "python",
   "nbconvert_exporter": "python",
   "pygments_lexer": "ipython3",
   "version": "3.9.12"
  }
 },
 "nbformat": 4,
 "nbformat_minor": 4
}
